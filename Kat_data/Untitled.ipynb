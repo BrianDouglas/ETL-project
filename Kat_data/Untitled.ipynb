{
 "cells": [
  {
   "cell_type": "code",
   "execution_count": 27,
   "metadata": {},
   "outputs": [],
   "source": [
    "import pandas as pd                         \n",
    "import numpy as np        \n",
    "import pandas\n",
    "from os import listdir\n",
    "from os.path import isfile, join\n",
    "import csv\n",
    "from sqlalchemy import create_engine"
   ]
  },
  {
   "cell_type": "code",
   "execution_count": null,
   "metadata": {},
   "outputs": [],
   "source": []
  },
  {
   "cell_type": "code",
   "execution_count": 28,
   "metadata": {},
   "outputs": [
    {
     "data": {
      "text/html": [
       "<div>\n",
       "<style scoped>\n",
       "    .dataframe tbody tr th:only-of-type {\n",
       "        vertical-align: middle;\n",
       "    }\n",
       "\n",
       "    .dataframe tbody tr th {\n",
       "        vertical-align: top;\n",
       "    }\n",
       "\n",
       "    .dataframe thead th {\n",
       "        text-align: right;\n",
       "    }\n",
       "</style>\n",
       "<table border=\"1\" class=\"dataframe\">\n",
       "  <thead>\n",
       "    <tr style=\"text-align: right;\">\n",
       "      <th></th>\n",
       "      <th>Parc et fréquentation des hébergements collectifs en 2017</th>\n",
       "      <th>Unnamed: 1</th>\n",
       "      <th>Unnamed: 2</th>\n",
       "      <th>Unnamed: 3</th>\n",
       "      <th>Unnamed: 4</th>\n",
       "      <th>Unnamed: 5</th>\n",
       "    </tr>\n",
       "  </thead>\n",
       "  <tbody>\n",
       "    <tr>\n",
       "      <th>0</th>\n",
       "      <td>NaN</td>\n",
       "      <td>NaN</td>\n",
       "      <td>NaN</td>\n",
       "      <td>NaN</td>\n",
       "      <td>NaN</td>\n",
       "      <td>NaN</td>\n",
       "    </tr>\n",
       "    <tr>\n",
       "      <th>1</th>\n",
       "      <td>NaN</td>\n",
       "      <td>Nombre d'établissements1</td>\n",
       "      <td>Nombre d'hébergements\\nen milliers2</td>\n",
       "      <td>Taux d'occupation\\nen %</td>\n",
       "      <td>Nuitées totales\\nen millions</td>\n",
       "      <td>Nuitées étrangères\\nen millions</td>\n",
       "    </tr>\n",
       "    <tr>\n",
       "      <th>2</th>\n",
       "      <td>Hôtels</td>\n",
       "      <td>17840</td>\n",
       "      <td>641</td>\n",
       "      <td>61.2</td>\n",
       "      <td>209.9</td>\n",
       "      <td>75.7</td>\n",
       "    </tr>\n",
       "    <tr>\n",
       "      <th>3</th>\n",
       "      <td>Campings3</td>\n",
       "      <td>8343</td>\n",
       "      <td>710</td>\n",
       "      <td>35.5</td>\n",
       "      <td>124</td>\n",
       "      <td>38.8</td>\n",
       "    </tr>\n",
       "    <tr>\n",
       "      <th>4</th>\n",
       "      <td>Autres hébergements collectifs touristiques (A...</td>\n",
       "      <td>3540</td>\n",
       "      <td>245</td>\n",
       "      <td>62.2</td>\n",
       "      <td>94.8</td>\n",
       "      <td>18.3</td>\n",
       "    </tr>\n",
       "  </tbody>\n",
       "</table>\n",
       "</div>"
      ],
      "text/plain": [
       "  Parc et fréquentation des hébergements collectifs en 2017  \\\n",
       "0                                                NaN          \n",
       "1                                                NaN          \n",
       "2                                             Hôtels          \n",
       "3                                          Campings3          \n",
       "4  Autres hébergements collectifs touristiques (A...          \n",
       "\n",
       "                 Unnamed: 1                           Unnamed: 2  \\\n",
       "0                       NaN                                  NaN   \n",
       "1  Nombre d'établissements1  Nombre d'hébergements\\nen milliers2   \n",
       "2                     17840                                  641   \n",
       "3                      8343                                  710   \n",
       "4                      3540                                  245   \n",
       "\n",
       "                Unnamed: 3                    Unnamed: 4  \\\n",
       "0                      NaN                           NaN   \n",
       "1  Taux d'occupation\\nen %  Nuitées totales\\nen millions   \n",
       "2                     61.2                         209.9   \n",
       "3                     35.5                           124   \n",
       "4                     62.2                          94.8   \n",
       "\n",
       "                        Unnamed: 5  \n",
       "0                              NaN  \n",
       "1  Nuitées étrangères\\nen millions  \n",
       "2                             75.7  \n",
       "3                             38.8  \n",
       "4                             18.3  "
      ]
     },
     "execution_count": 28,
     "metadata": {},
     "output_type": "execute_result"
    }
   ],
   "source": [
    "stock_attendance_2017=pd.read_excel(('T19F206.xls'),\n",
    "              sheet_name='Figure 1') \n",
    "stock_attendance_2017_df=pd.DataFrame(stock_attendance_2017)\n",
    "stock_attendance_2017_df.head()"
   ]
  },
  {
   "cell_type": "code",
   "execution_count": 3,
   "metadata": {},
   "outputs": [],
   "source": [
    "#drop row 0\n",
    "stock_attendance_2017_df=stock_attendance_2017_df.drop([0])"
   ]
  },
  {
   "cell_type": "code",
   "execution_count": 4,
   "metadata": {},
   "outputs": [],
   "source": [
    "#drop Nan rows\n",
    "stock_attendance_2017_df=stock_attendance_2017_df.drop([9,10,11,12,13])"
   ]
  },
  {
   "cell_type": "code",
   "execution_count": 5,
   "metadata": {},
   "outputs": [],
   "source": [
    "#new header\n",
    "new_header = stock_attendance_2017_df.iloc[0]"
   ]
  },
  {
   "cell_type": "code",
   "execution_count": 6,
   "metadata": {},
   "outputs": [],
   "source": [
    "stock_attendance_2017_df.columns=new_header"
   ]
  },
  {
   "cell_type": "code",
   "execution_count": 7,
   "metadata": {},
   "outputs": [],
   "source": [
    "#drop row 0\n",
    "stock_attendance_2017_df=stock_attendance_2017_df.drop([1])"
   ]
  },
  {
   "cell_type": "code",
   "execution_count": 8,
   "metadata": {},
   "outputs": [],
   "source": [
    "#rename columns\n",
    "stock_attendance_2017_df.columns = stock_attendance_2017_df.columns.fillna('type')\n",
    "stock_attendance_2017_df=stock_attendance_2017_df.rename(columns={\"type\": \"Establishment\", \"Nombre d'établissements1\": \"Number_of_Establishments\",\n",
    "                                                                 \"Nombre d'hébergements\\nen milliers2\":\"Number_of_Accomidations(thousands)\",\n",
    "                                                                 \"Taux d'occupation\\nen %\":\"Occupancy_Rate%\",\n",
    "                                                                 \"Nuitées totales\\nen millions\":\"Total_Night(millions)\",\n",
    "                                                                 \"Nuitées étrangères\\nen millions\":\"Foreign_Overnight_Stays(millions)\"})"
   ]
  },
  {
   "cell_type": "code",
   "execution_count": 9,
   "metadata": {},
   "outputs": [],
   "source": [
    "stock_attendance_2017_df=stock_attendance_2017_df.rename(columns={\"type\": \"Establishment\", \"Nombre d'établissements1\": \"Number_of_Establishments\",\n",
    "                                                                 \"Number_of_Accomidations(thousands)\":\"Number_of_Accomidations\",\n",
    "                                                                 \"Occupancy_Rate%\":\"Occupancy_Rate\",\n",
    "                                                                 \"Total_Night(millions)\":\"Total_Night\",\n",
    "                                                                 \"Foreign_Overnight_Stays(millions)\":\"Foreign_Overnight_Stays\"})"
   ]
  },
  {
   "cell_type": "code",
   "execution_count": 29,
   "metadata": {},
   "outputs": [],
   "source": [
    "#stock_attendance_2017_df"
   ]
  },
  {
   "cell_type": "code",
   "execution_count": 11,
   "metadata": {},
   "outputs": [],
   "source": [
    "#stock_attendance_2017_df\n",
    "#conect to local database\n",
    "rds_connection_string = \"postgres:Otis-1995@localhost:5432/france_tourism_db\"\n",
    "engine = create_engine(f'postgresql://{rds_connection_string}')"
   ]
  },
  {
   "cell_type": "code",
   "execution_count": 12,
   "metadata": {},
   "outputs": [
    {
     "data": {
      "text/plain": [
       "['stock_attendance_2017']"
      ]
     },
     "execution_count": 12,
     "metadata": {},
     "output_type": "execute_result"
    }
   ],
   "source": [
    "engine.table_names()"
   ]
  },
  {
   "cell_type": "code",
   "execution_count": 19,
   "metadata": {},
   "outputs": [],
   "source": [
    "stock_attendance_2017_df=stock_attendance_2017_df.reset_index()"
   ]
  },
  {
   "cell_type": "code",
   "execution_count": 21,
   "metadata": {},
   "outputs": [],
   "source": [
    "stock_attendance_2017_df=stock_attendance_2017_df.rename(columns={\"index\":\"id\"})"
   ]
  },
  {
   "cell_type": "code",
   "execution_count": 22,
   "metadata": {},
   "outputs": [],
   "source": [
    "stock_attendance_2017_df.to_sql(name='stock_attendance_2017', con=engine, if_exists='append', index=False)"
   ]
  },
  {
   "cell_type": "code",
   "execution_count": null,
   "metadata": {},
   "outputs": [],
   "source": []
  }
 ],
 "metadata": {
  "kernelspec": {
   "display_name": "Python 3",
   "language": "python",
   "name": "python3"
  },
  "language_info": {
   "codemirror_mode": {
    "name": "ipython",
    "version": 3
   },
   "file_extension": ".py",
   "mimetype": "text/x-python",
   "name": "python",
   "nbconvert_exporter": "python",
   "pygments_lexer": "ipython3",
   "version": "3.8.5"
  }
 },
 "nbformat": 4,
 "nbformat_minor": 4
}
